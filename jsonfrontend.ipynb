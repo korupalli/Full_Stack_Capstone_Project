{
 "cells": [
  {
   "cell_type": "code",
   "execution_count": null,
   "metadata": {},
   "outputs": [],
   "source": [
    "import pandas as pd\n",
    "def rate(price):\n",
    "    return round(price/2,1)\n",
    "def rate1(description):\n",
    "    s=description.split(\" \")\n",
    "    #print(s)\n",
    "    return ''.join(s[:8])\n",
    "\n",
    "df = pd.read_csv('tmdb_5000_movies.csv')\n",
    "df1 = pd.read_csv('movies.csv')\n",
    "df1= df1.drop(df1.columns[[0,2]], axis=1)\n",
    "df1 = df1.rename(columns={'overview': 'description', 'poster_path': 'image'})\n",
    "df1['price']=df['vote_average']\n",
    "df1['price']=df1['price'].astype(str).astype(float)\n",
    "df1['price']=df1['price'].apply(rate)\n",
    "df1['description']=df1['description'].astype(str)\n",
    "df1['description']=df1['description'].apply(rate1)\n",
    "df1['price']=df1['price'].astype(str)\n",
    "df1[:200].T.to_dict().values()"
   ]
  }
 ],
 "metadata": {
  "kernelspec": {
   "display_name": "Python 3",
   "language": "python",
   "name": "python3"
  },
  "language_info": {
   "codemirror_mode": {
    "name": "ipython",
    "version": 3
   },
   "file_extension": ".py",
   "mimetype": "text/x-python",
   "name": "python",
   "nbconvert_exporter": "python",
   "pygments_lexer": "ipython3",
   "version": "3.7.3"
  }
 },
 "nbformat": 4,
 "nbformat_minor": 2
}
